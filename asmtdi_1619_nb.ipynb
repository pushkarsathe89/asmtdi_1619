{
 "cells": [
  {
   "cell_type": "code",
   "execution_count": 7,
   "metadata": {
    "collapsed": true
   },
   "outputs": [],
   "source": [
    "import pandas as pd\n",
    "import numpy as np\n",
    "%matplotlib inline"
   ]
  },
  {
   "cell_type": "code",
   "execution_count": 8,
   "metadata": {
    "collapsed": false
   },
   "outputs": [],
   "source": [
    "data16 = pd.read_csv(\"ASM_2016_31GS101/ASM_2016_31GS101_with_ann.csv\")"
   ]
  },
  {
   "cell_type": "code",
   "execution_count": 9,
   "metadata": {
    "collapsed": false
   },
   "outputs": [
    {
     "data": {
      "text/html": [
       "<div>\n",
       "<style>\n",
       "    .dataframe thead tr:only-child th {\n",
       "        text-align: right;\n",
       "    }\n",
       "\n",
       "    .dataframe thead th {\n",
       "        text-align: left;\n",
       "    }\n",
       "\n",
       "    .dataframe tbody tr th {\n",
       "        vertical-align: top;\n",
       "    }\n",
       "</style>\n",
       "<table border=\"1\" class=\"dataframe\">\n",
       "  <thead>\n",
       "    <tr style=\"text-align: right;\">\n",
       "      <th></th>\n",
       "      <th>GEO.id</th>\n",
       "      <th>GEO.id2</th>\n",
       "      <th>GEO.display-label</th>\n",
       "      <th>NAICS.id</th>\n",
       "      <th>NAICS.display-label</th>\n",
       "      <th>YEAR.id</th>\n",
       "      <th>EMP</th>\n",
       "      <th>EMP_S</th>\n",
       "      <th>PAYANN</th>\n",
       "      <th>PAYANN_S</th>\n",
       "      <th>...</th>\n",
       "      <th>PCHRFUS</th>\n",
       "      <th>PCHRFUS_S</th>\n",
       "      <th>PCHADVT</th>\n",
       "      <th>PCHADVT_S</th>\n",
       "      <th>PCHPRTE</th>\n",
       "      <th>PCHPRTE_S</th>\n",
       "      <th>PCHTAX</th>\n",
       "      <th>PCHTAX_S</th>\n",
       "      <th>PCHOEXP</th>\n",
       "      <th>PCHOEXP_S</th>\n",
       "    </tr>\n",
       "  </thead>\n",
       "  <tbody>\n",
       "    <tr>\n",
       "      <th>0</th>\n",
       "      <td>Geographic identifier code</td>\n",
       "      <td>Id2</td>\n",
       "      <td>Geographic area name</td>\n",
       "      <td>2012 NAICS code</td>\n",
       "      <td>Meaning of 2012 NAICS code</td>\n",
       "      <td>Year</td>\n",
       "      <td>Number of employees</td>\n",
       "      <td>Relative standard error for estimate of number...</td>\n",
       "      <td>Annual payroll ($1,000)</td>\n",
       "      <td>Relative standard error for estimate of annual...</td>\n",
       "      <td>...</td>\n",
       "      <td>Refuse removal (including hazardous waste) ser...</td>\n",
       "      <td>Relative standard error for estimate of refuse...</td>\n",
       "      <td>Advertising and promotional services ($1,000)</td>\n",
       "      <td>Relative standard error for estimate of advert...</td>\n",
       "      <td>Purchased professional and technical services ...</td>\n",
       "      <td>Relative standard error for estimate of purcha...</td>\n",
       "      <td>Taxes and license fees ($1,000)</td>\n",
       "      <td>Relative standard error for estimate of taxes ...</td>\n",
       "      <td>All other operating expenses ($1,000)</td>\n",
       "      <td>Relative standard error for estimate of all ot...</td>\n",
       "    </tr>\n",
       "    <tr>\n",
       "      <th>1</th>\n",
       "      <td>0100000US</td>\n",
       "      <td>NaN</td>\n",
       "      <td>United States</td>\n",
       "      <td>31-33</td>\n",
       "      <td>Manufacturing</td>\n",
       "      <td>2016</td>\n",
       "      <td>11112764</td>\n",
       "      <td>0.1</td>\n",
       "      <td>643406439</td>\n",
       "      <td>0.1</td>\n",
       "      <td>...</td>\n",
       "      <td>13978355</td>\n",
       "      <td>0.3</td>\n",
       "      <td>18440695</td>\n",
       "      <td>0.4</td>\n",
       "      <td>31809485</td>\n",
       "      <td>0.3</td>\n",
       "      <td>18237640</td>\n",
       "      <td>0.5</td>\n",
       "      <td>210156081</td>\n",
       "      <td>0.3</td>\n",
       "    </tr>\n",
       "    <tr>\n",
       "      <th>2</th>\n",
       "      <td>0100000US</td>\n",
       "      <td>NaN</td>\n",
       "      <td>United States</td>\n",
       "      <td>31-33</td>\n",
       "      <td>Manufacturing</td>\n",
       "      <td>2015</td>\n",
       "      <td>11168264</td>\n",
       "      <td>0.1</td>\n",
       "      <td>636220649</td>\n",
       "      <td>0.1</td>\n",
       "      <td>...</td>\n",
       "      <td>14087999</td>\n",
       "      <td>0.3</td>\n",
       "      <td>18048816</td>\n",
       "      <td>0.4</td>\n",
       "      <td>31858136</td>\n",
       "      <td>0.3</td>\n",
       "      <td>18137380</td>\n",
       "      <td>0.3</td>\n",
       "      <td>213462028</td>\n",
       "      <td>0.3</td>\n",
       "    </tr>\n",
       "    <tr>\n",
       "      <th>3</th>\n",
       "      <td>0100000US</td>\n",
       "      <td>NaN</td>\n",
       "      <td>United States</td>\n",
       "      <td>311</td>\n",
       "      <td>Food manufacturing</td>\n",
       "      <td>2016</td>\n",
       "      <td>1417046</td>\n",
       "      <td>0.4</td>\n",
       "      <td>62772330</td>\n",
       "      <td>0.4</td>\n",
       "      <td>...</td>\n",
       "      <td>2491788</td>\n",
       "      <td>0.8</td>\n",
       "      <td>4818192</td>\n",
       "      <td>0.5</td>\n",
       "      <td>2123716</td>\n",
       "      <td>1.0</td>\n",
       "      <td>1652878</td>\n",
       "      <td>1.3</td>\n",
       "      <td>22177327</td>\n",
       "      <td>0.9</td>\n",
       "    </tr>\n",
       "    <tr>\n",
       "      <th>4</th>\n",
       "      <td>0100000US</td>\n",
       "      <td>NaN</td>\n",
       "      <td>United States</td>\n",
       "      <td>311</td>\n",
       "      <td>Food manufacturing</td>\n",
       "      <td>2015</td>\n",
       "      <td>1390907</td>\n",
       "      <td>0.4</td>\n",
       "      <td>59623870</td>\n",
       "      <td>0.3</td>\n",
       "      <td>...</td>\n",
       "      <td>2425726</td>\n",
       "      <td>0.9</td>\n",
       "      <td>4516341</td>\n",
       "      <td>0.6</td>\n",
       "      <td>2045163</td>\n",
       "      <td>1.0</td>\n",
       "      <td>1623201</td>\n",
       "      <td>1.3</td>\n",
       "      <td>22373991</td>\n",
       "      <td>0.9</td>\n",
       "    </tr>\n",
       "  </tbody>\n",
       "</table>\n",
       "<p>5 rows × 118 columns</p>\n",
       "</div>"
      ],
      "text/plain": [
       "<div>\n",
       "<style>\n",
       "    .dataframe thead tr:only-child th {\n",
       "        text-align: right;\n",
       "    }\n",
       "\n",
       "    .dataframe thead th {\n",
       "        text-align: left;\n",
       "    }\n",
       "\n",
       "    .dataframe tbody tr th {\n",
       "        vertical-align: top;\n",
       "    }\n",
       "</style>\n",
       "<table border=\"1\" class=\"dataframe\">\n",
       "  <thead>\n",
       "    <tr style=\"text-align: right;\">\n",
       "      <th></th>\n",
       "      <th>GEO.id</th>\n",
       "      <th>GEO.id2</th>\n",
       "      <th>GEO.display-label</th>\n",
       "      <th>NAICS.id</th>\n",
       "      <th>NAICS.display-label</th>\n",
       "      <th>YEAR.id</th>\n",
       "      <th>EMP</th>\n",
       "      <th>EMP_S</th>\n",
       "      <th>PAYANN</th>\n",
       "      <th>PAYANN_S</th>\n",
       "      <th>...</th>\n",
       "      <th>PCHRFUS</th>\n",
       "      <th>PCHRFUS_S</th>\n",
       "      <th>PCHADVT</th>\n",
       "      <th>PCHADVT_S</th>\n",
       "      <th>PCHPRTE</th>\n",
       "      <th>PCHPRTE_S</th>\n",
       "      <th>PCHTAX</th>\n",
       "      <th>PCHTAX_S</th>\n",
       "      <th>PCHOEXP</th>\n",
       "      <th>PCHOEXP_S</th>\n",
       "    </tr>\n",
       "  </thead>\n",
       "  <tbody>\n",
       "    <tr>\n",
       "      <th>0</th>\n",
       "      <td>Geographic identifier code</td>\n",
       "      <td>Id2</td>\n",
       "      <td>Geographic area name</td>\n",
       "      <td>2012 NAICS code</td>\n",
       "      <td>Meaning of 2012 NAICS code</td>\n",
       "      <td>Year</td>\n",
       "      <td>Number of employees</td>\n",
       "      <td>Relative standard error for estimate of number...</td>\n",
       "      <td>Annual payroll ($1,000)</td>\n",
       "      <td>Relative standard error for estimate of annual...</td>\n",
       "      <td>...</td>\n",
       "      <td>Refuse removal (including hazardous waste) ser...</td>\n",
       "      <td>Relative standard error for estimate of refuse...</td>\n",
       "      <td>Advertising and promotional services ($1,000)</td>\n",
       "      <td>Relative standard error for estimate of advert...</td>\n",
       "      <td>Purchased professional and technical services ...</td>\n",
       "      <td>Relative standard error for estimate of purcha...</td>\n",
       "      <td>Taxes and license fees ($1,000)</td>\n",
       "      <td>Relative standard error for estimate of taxes ...</td>\n",
       "      <td>All other operating expenses ($1,000)</td>\n",
       "      <td>Relative standard error for estimate of all ot...</td>\n",
       "    </tr>\n",
       "    <tr>\n",
       "      <th>1</th>\n",
       "      <td>0100000US</td>\n",
       "      <td>NaN</td>\n",
       "      <td>United States</td>\n",
       "      <td>31-33</td>\n",
       "      <td>Manufacturing</td>\n",
       "      <td>2016</td>\n",
       "      <td>11112764</td>\n",
       "      <td>0.1</td>\n",
       "      <td>643406439</td>\n",
       "      <td>0.1</td>\n",
       "      <td>...</td>\n",
       "      <td>13978355</td>\n",
       "      <td>0.3</td>\n",
       "      <td>18440695</td>\n",
       "      <td>0.4</td>\n",
       "      <td>31809485</td>\n",
       "      <td>0.3</td>\n",
       "      <td>18237640</td>\n",
       "      <td>0.5</td>\n",
       "      <td>210156081</td>\n",
       "      <td>0.3</td>\n",
       "    </tr>\n",
       "    <tr>\n",
       "      <th>2</th>\n",
       "      <td>0100000US</td>\n",
       "      <td>NaN</td>\n",
       "      <td>United States</td>\n",
       "      <td>31-33</td>\n",
       "      <td>Manufacturing</td>\n",
       "      <td>2015</td>\n",
       "      <td>11168264</td>\n",
       "      <td>0.1</td>\n",
       "      <td>636220649</td>\n",
       "      <td>0.1</td>\n",
       "      <td>...</td>\n",
       "      <td>14087999</td>\n",
       "      <td>0.3</td>\n",
       "      <td>18048816</td>\n",
       "      <td>0.4</td>\n",
       "      <td>31858136</td>\n",
       "      <td>0.3</td>\n",
       "      <td>18137380</td>\n",
       "      <td>0.3</td>\n",
       "      <td>213462028</td>\n",
       "      <td>0.3</td>\n",
       "    </tr>\n",
       "    <tr>\n",
       "      <th>3</th>\n",
       "      <td>0100000US</td>\n",
       "      <td>NaN</td>\n",
       "      <td>United States</td>\n",
       "      <td>311</td>\n",
       "      <td>Food manufacturing</td>\n",
       "      <td>2016</td>\n",
       "      <td>1417046</td>\n",
       "      <td>0.4</td>\n",
       "      <td>62772330</td>\n",
       "      <td>0.4</td>\n",
       "      <td>...</td>\n",
       "      <td>2491788</td>\n",
       "      <td>0.8</td>\n",
       "      <td>4818192</td>\n",
       "      <td>0.5</td>\n",
       "      <td>2123716</td>\n",
       "      <td>1.0</td>\n",
       "      <td>1652878</td>\n",
       "      <td>1.3</td>\n",
       "      <td>22177327</td>\n",
       "      <td>0.9</td>\n",
       "    </tr>\n",
       "    <tr>\n",
       "      <th>4</th>\n",
       "      <td>0100000US</td>\n",
       "      <td>NaN</td>\n",
       "      <td>United States</td>\n",
       "      <td>311</td>\n",
       "      <td>Food manufacturing</td>\n",
       "      <td>2015</td>\n",
       "      <td>1390907</td>\n",
       "      <td>0.4</td>\n",
       "      <td>59623870</td>\n",
       "      <td>0.3</td>\n",
       "      <td>...</td>\n",
       "      <td>2425726</td>\n",
       "      <td>0.9</td>\n",
       "      <td>4516341</td>\n",
       "      <td>0.6</td>\n",
       "      <td>2045163</td>\n",
       "      <td>1.0</td>\n",
       "      <td>1623201</td>\n",
       "      <td>1.3</td>\n",
       "      <td>22373991</td>\n",
       "      <td>0.9</td>\n",
       "    </tr>\n",
       "  </tbody>\n",
       "</table>\n",
       "<p>5 rows × 118 columns</p>\n",
       "</div>"
      ]
     },
     "execution_count": 9,
     "metadata": {},
     "output_type": "execute_result"
    }
   ],
   "source": [
    "data16.head()"
   ]
  },
  {
   "cell_type": "code",
   "execution_count": 10,
   "metadata": {
    "collapsed": false
   },
   "outputs": [
    {
     "data": {
      "text/plain": [
       "(1305, 118)"
      ]
     },
     "execution_count": 10,
     "metadata": {},
     "output_type": "execute_result"
    }
   ],
   "source": [
    "data16.values.shape"
   ]
  },
  {
   "cell_type": "code",
   "execution_count": 41,
   "metadata": {
    "collapsed": false
   },
   "outputs": [
    {
     "name": "stderr",
     "output_type": "stream",
     "text": [
      "C:\\Users\\pushk\\Anaconda3\\lib\\site-packages\\ipykernel\\__main__.py:6: FutureWarning: convert_objects is deprecated.  Use the data-type specific converters pd.to_datetime, pd.to_timedelta and pd.to_numeric.\n"
     ]
    },
    {
     "data": {
      "text/plain": [
       "(1285, 9)"
      ]
     },
     "execution_count": 41,
     "metadata": {},
     "output_type": "execute_result"
    }
   ],
   "source": [
    "# data16dna = data16.drop([\"GEO.display-label\"],[\"NAICS.display-label\"],[\"EMP_S\"],[\"PAYANN_S\",[\"BENEFIT_S\"],[\"BENHEA_S\"],[\"BENPEB_S\"],[\"BENPEC_S\"],[\"BENOTH_S\"],[\"EMPAVPW_S\"],[\"\"],[\"\"]])\n",
    "# data16dna = data16[[\"NAICS.id\",\"YEAR.id\",\"EMP\",\"PAYANN\",\"BENEFIT\",\"BENHEA\",\"VALADD\",\"HOURS\",\"PAYANPW\",\"CSTMTOT\"]]\n",
    "data16dna = data16[[\"NAICS.id\",\"EMP\",\"PAYANN\",\"BENEFIT\",\"BENHEA\",\"VALADD\",\"HOURS\",\"PAYANPW\",\"CSTMTOT\"]]\n",
    "\n",
    "data16dna = data16dna.dropna(axis='columns')\n",
    "data16dna=data16dna[data16dna.T.convert_objects(convert_numeric=True).dtypes != float]\n",
    "# data16dna=data16dna[data16dna.T.convert_objects().dtypes != float]\n",
    "\n",
    "# data16dna = data16dna[~data16dna.apply(lambda r : any([isinstance(e, str) for e in r  ]),axis=1)]\n",
    "data16dna.values.shape\n",
    "data = data16dna.values[3:,:]\n",
    "data.shape"
   ]
  },
  {
   "cell_type": "code",
   "execution_count": 42,
   "metadata": {
    "collapsed": false
   },
   "outputs": [],
   "source": [
    "from sklearn.decomposition import PCA"
   ]
  },
  {
   "cell_type": "code",
   "execution_count": 43,
   "metadata": {
    "collapsed": false
   },
   "outputs": [
    {
     "data": {
      "text/plain": [
       "PCA(copy=True, iterated_power='auto', n_components=None, random_state=None,\n  svd_solver='auto', tol=0.0, whiten=False)"
      ]
     },
     "execution_count": 43,
     "metadata": {},
     "output_type": "execute_result"
    }
   ],
   "source": [
    "pca = PCA()\n",
    "pca.fit(data)"
   ]
  },
  {
   "cell_type": "code",
   "execution_count": 44,
   "metadata": {
    "collapsed": true
   },
   "outputs": [
    {
     "data": {
      "text/plain": [
       "[<matplotlib.lines.Line2D at 0x23cf763d6a0>]"
      ]
     },
     "execution_count": 44,
     "metadata": {},
     "output_type": "execute_result"
    },
    {
     "data": {
      "image/png": "[encoded data removed]",
      "text/plain": [
       "<matplotlib.figure.Figure at 0x23cf6d3a8d0>"
      ]
     },
     "metadata": {},
     "output_type": "display_data"
    }
   ],
   "source": [
    "import matplotlib.pyplot as plt\n",
    "plt.plot(pca.explained_variance_ratio_)"
   ]
  },
  {
   "cell_type": "code",
   "execution_count": 45,
   "metadata": {
    "collapsed": true
   },
   "outputs": [
    {
     "data": {
      "image/png": "[encoded data removed]",
      "text/plain": [
       "<matplotlib.figure.Figure at 0x23cf75ecbe0>"
      ]
     },
     "metadata": {},
     "output_type": "display_data"
    }
   ],
   "source": [
    "plt.plot(np.cumsum(pca.explained_variance_ratio_))\n",
    "data_new = pca.fit_transform(data)"
   ]
  },
  {
   "cell_type": "code",
   "execution_count": 46,
   "metadata": {},
   "outputs": [
    {
     "data": {
      "text/plain": [
       "<matplotlib.collections.PathCollection at 0x23cf6a7a6a0>"
      ]
     },
     "execution_count": 46,
     "metadata": {},
     "output_type": "execute_result"
    },
    {
     "data": {
      "image/png": "[encoded data removed]",
      "text/plain": [
       "<matplotlib.figure.Figure at 0x23cf69e80f0>"
      ]
     },
     "metadata": {},
     "output_type": "display_data"
    }
   ],
   "source": [
    "plt.scatter(data_new[:,0],data_new[:,1],c='r')"
   ]
  },
  {
   "cell_type": "code",
   "execution_count": null,
   "metadata": {},
   "outputs": [],
   "source": [
    ""
   ]
  }
 ],
 "metadata": {
  "kernelspec": {
   "display_name": "Python 3",
   "language": "python",
   "name": "python3"
  },
  "language_info": {
   "codemirror_mode": {
    "name": "ipython",
    "version": 3.0
   },
   "file_extension": ".py",
   "mimetype": "text/x-python",
   "name": "python",
   "nbconvert_exporter": "python",
   "pygments_lexer": "ipython3",
   "version": "3.6.1"
  }
 },
 "nbformat": 4,
 "nbformat_minor": 0
}